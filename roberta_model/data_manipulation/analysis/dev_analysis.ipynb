{
 "cells": [
  {
   "attachments": {},
   "cell_type": "markdown",
   "metadata": {},
   "source": [
    "# Inputs\n"
   ]
  },
  {
   "cell_type": "code",
   "execution_count": 2,
   "metadata": {},
   "outputs": [],
   "source": [
    "import warnings\n",
    "\n",
    "warnings.simplefilter(action=\"ignore\", category=FutureWarning)\n",
    "\n",
    "import json\n",
    "import csv\n",
    "import pandas as pd\n",
    "import matplotlib.pyplot as plt\n"
   ]
  },
  {
   "attachments": {},
   "cell_type": "markdown",
   "metadata": {},
   "source": [
    "# Setting Up Entries\n"
   ]
  },
  {
   "cell_type": "code",
   "execution_count": 3,
   "metadata": {},
   "outputs": [],
   "source": [
    "json_file_path = \"dev_results.json\"\n",
    "csv_file_path = \"dev.csv\"\n"
   ]
  },
  {
   "cell_type": "code",
   "execution_count": 4,
   "metadata": {},
   "outputs": [
    {
     "name": "stdout",
     "output_type": "stream",
     "text": [
      "2093\n",
      "{'id': 107, 'keyword': 'homeless', 'country_code': 'ke', 'text': 'His present \" chambers \" may be quite humble , but Shiyani has the tiny space very neatly organized and clean . Many people pass him by but do not manage to see him , because the space is partially hidden behind trees , which gives him a relative privacy . \" There are many homeless sleeping around the station , \" Captain Xoli Mbele , from the nearby Johannesburg Central Police station said .', 'target': 1, 'prediction': 0}\n"
     ]
    }
   ],
   "source": [
    "# Load JSON file\n",
    "with open(json_file_path, \"r\") as f:\n",
    "    data_json = json.load(f)\n",
    "\n",
    "# Load CSV file\n",
    "data_csv = []\n",
    "with open(csv_file_path, \"r\") as f:\n",
    "    reader = csv.DictReader(f)\n",
    "    for row in reader:\n",
    "        data_csv.append(row)\n",
    "\n",
    "# Combine data\n",
    "combined_data = []\n",
    "for point in data_json[\"data_points\"]:\n",
    "    for row in data_csv:\n",
    "        if point[\"id\"] == int(row[\"par_id\"]):\n",
    "            combined_data.append(\n",
    "                {\n",
    "                    \"id\": point[\"id\"],\n",
    "                    \"keyword\": row[\"keyword\"],\n",
    "                    \"country_code\": row[\"country_code\"],\n",
    "                    \"text\": row[\"text\"],\n",
    "                    \"target\": point[\"target\"],\n",
    "                    \"prediction\": point[\"prediction\"],\n",
    "                }\n",
    "            )\n",
    "\n",
    "print(len(combined_data))\n",
    "print(combined_data[0])\n"
   ]
  },
  {
   "cell_type": "code",
   "execution_count": 5,
   "metadata": {},
   "outputs": [
    {
     "name": "stdout",
     "output_type": "stream",
     "text": [
      "Total mismatched: 145\n",
      "\t FP: 73\n",
      "\t FN: 72\n"
     ]
    }
   ],
   "source": [
    "mismatched_entries = [entry for entry in combined_data if entry[\"target\"] != entry[\"prediction\"]]\n",
    "false_positives = [dp for dp in combined_data if dp[\"target\"] == 0 and dp[\"prediction\"] == 1]\n",
    "false_negatives = [dp for dp in combined_data if dp[\"target\"] == 1 and dp[\"prediction\"] == 0]\n",
    "\n",
    "print(f\"Total mismatched: {len(mismatched_entries)}\")\n",
    "print(f\"\\t FP: {len(false_positives)}\")\n",
    "print(f\"\\t FN: {len(false_negatives)}\")\n"
   ]
  },
  {
   "attachments": {},
   "cell_type": "markdown",
   "metadata": {},
   "source": [
    "# Analysis of Length of Text\n"
   ]
  },
  {
   "cell_type": "code",
   "execution_count": 6,
   "metadata": {},
   "outputs": [
    {
     "name": "stdout",
     "output_type": "stream",
     "text": [
      "   text_length false_positives false_negatives\n",
      "0         0-50               1               0\n",
      "1       50-100               6               4\n",
      "2      100-150               8               6\n",
      "3      150-200              13              11\n",
      "4      200-250               4              13\n",
      "5      250-300              10               7\n",
      "6      300-350               9               3\n",
      "7      350-400               9              10\n",
      "8      400-450               4               7\n",
      "9      450-500               3               3\n",
      "10     500-550               0               3\n",
      "11     550-600               2               2\n",
      "12     600-650               2               1\n",
      "13     650-700               0               1\n",
      "14     700-750               1               0\n",
      "15     750-800               2               0\n",
      "16     800-850               0               0\n",
      "17     850-900               0               0\n",
      "18     900-950               0               1\n",
      "19    950-1000               0               0\n",
      "20    1000-inf               0               0\n"
     ]
    }
   ],
   "source": [
    "# Define the bin edges for the text length buckets\n",
    "bin_edges = [i for i in range(0, 1050, 50)] + [float(\"inf\")]\n",
    "\n",
    "# Create a DataFrame with columns for the text length, false positives, and false negatives\n",
    "text_length_df = pd.DataFrame(columns=[\"text_length\", \"false_positives\", \"false_negatives\"])\n",
    "\n",
    "# Iterate over the bins and count the false positives and false negatives in each bin\n",
    "for i in range(len(bin_edges) - 1):\n",
    "    # Define the current bin range\n",
    "    bin_min = bin_edges[i]\n",
    "    bin_max = bin_edges[i + 1]\n",
    "\n",
    "    # Filter the combined_data array for entries with text lengths within the current bin range\n",
    "    bin_data = [dp for dp in combined_data if bin_min <= len(dp[\"text\"]) <= bin_max]\n",
    "\n",
    "    # Count the false positives and false negatives in the current bin\n",
    "    bin_false_positives = len(\n",
    "        [dp for dp in bin_data if dp[\"target\"] == 0 and dp[\"prediction\"] == 1]\n",
    "    )\n",
    "    bin_false_negatives = len(\n",
    "        [dp for dp in bin_data if dp[\"target\"] == 1 and dp[\"prediction\"] == 0]\n",
    "    )\n",
    "\n",
    "    # Append the counts to the DataFrame\n",
    "    text_length_df = text_length_df.append(\n",
    "        {\n",
    "            \"text_length\": f\"{bin_min}-{bin_max}\",\n",
    "            \"false_positives\": bin_false_positives,\n",
    "            \"false_negatives\": bin_false_negatives,\n",
    "        },\n",
    "        ignore_index=True,\n",
    "    )\n",
    "\n",
    "# Print the resulting DataFrame\n",
    "print(text_length_df)\n"
   ]
  },
  {
   "cell_type": "code",
   "execution_count": 25,
   "metadata": {},
   "outputs": [
    {
     "data": {
      "image/png": "[encoded data removed]",
      "text/plain": [
       "<Figure size 720x432 with 1 Axes>"
      ]
     },
     "metadata": {
      "needs_background": "light"
     },
     "output_type": "display_data"
    }
   ],
   "source": [
    "# Set the x-axis labels to the bin ranges\n",
    "x_labels = text_length_df[\"text_length\"].values\n",
    "\n",
    "# Create a bar chart of the false positives and false negatives\n",
    "plt.bar(x_labels, text_length_df[\"false_positives\"].values, label=\"False positives\")\n",
    "plt.bar(\n",
    "    x_labels,\n",
    "    text_length_df[\"false_negatives\"].values,\n",
    "    bottom=text_length_df[\"false_positives\"].values,\n",
    "    label=\"False negatives\",\n",
    ")\n",
    "\n",
    "# Increase bar chart size\n",
    "# plt.rcParams[\"figure.figsize\"] = (10, 6)\n",
    "\n",
    "# Add labels and legend\n",
    "plt.xlabel(\"Text length\", fontsize=\"x-large\")\n",
    "plt.ylabel(\"Count\", fontsize=\"x-large\")\n",
    "plt.title(\"FPs and FNs by Text Length\", fontsize=\"x-large\")\n",
    "\n",
    "plt.xticks(fontsize=\"x-large\", rotation=45, ha=\"right\")\n",
    "plt.yticks(fontsize=\"x-large\")\n",
    "\n",
    "plt.legend(fontsize=\"x-large\")\n",
    "\n",
    "plt.tight_layout()\n",
    "plt.show()\n"
   ]
  },
  {
   "cell_type": "code",
   "execution_count": 8,
   "metadata": {},
   "outputs": [
    {
     "name": "stdout",
     "output_type": "stream",
     "text": [
      "   country_code false_positives false_negatives\n",
      "0            hk               0               2\n",
      "1            ca               1               2\n",
      "2            gb               3               4\n",
      "3            gh               1               6\n",
      "4            bd               4               4\n",
      "5            my               3               3\n",
      "6            sg               2               2\n",
      "7            nz               1               4\n",
      "8            jm               7               1\n",
      "9            pk               4               6\n",
      "10           ke               7               2\n",
      "11           za               5               4\n",
      "12           ph               7               7\n",
      "13           tz               2               5\n",
      "14           ie               2               3\n",
      "15           au               5               2\n",
      "16           ng               7               5\n",
      "17           lk               4               4\n",
      "18           in               2               3\n",
      "19           us               6               3\n"
     ]
    }
   ],
   "source": [
    "# Create a DataFrame with columns for the country, false positives, and false negatives\n",
    "country_df = pd.DataFrame(columns=[\"country_code\", \"false_positives\", \"false_negatives\"])\n",
    "\n",
    "# Iterate over the unique countries and count the false positives and false negatives in each country\n",
    "unique_countries = set(dp[\"country_code\"] for dp in combined_data)\n",
    "for country in unique_countries:\n",
    "    # Filter the combined_data array for entries with the current country\n",
    "    country_data = [dp for dp in combined_data if dp[\"country_code\"] == country]\n",
    "\n",
    "    # Count the false positives and false negatives in the current country\n",
    "    country_false_positives = len(\n",
    "        [dp for dp in country_data if dp[\"target\"] == 0 and dp[\"prediction\"] == 1]\n",
    "    )\n",
    "    country_false_negatives = len(\n",
    "        [dp for dp in country_data if dp[\"target\"] == 1 and dp[\"prediction\"] == 0]\n",
    "    )\n",
    "\n",
    "    # Append the counts to the DataFrame\n",
    "    country_df = country_df.append(\n",
    "        {\n",
    "            \"country_code\": country,\n",
    "            \"false_positives\": country_false_positives,\n",
    "            \"false_negatives\": country_false_negatives,\n",
    "        },\n",
    "        ignore_index=True,\n",
    "    )\n",
    "\n",
    "# Print the resulting DataFrame\n",
    "print(country_df)\n"
   ]
  },
  {
   "cell_type": "code",
   "execution_count": 28,
   "metadata": {},
   "outputs": [
    {
     "data": {
      "image/png": "[encoded data removed]",
      "text/plain": [
       "<Figure size 720x432 with 1 Axes>"
      ]
     },
     "metadata": {
      "needs_background": "light"
     },
     "output_type": "display_data"
    }
   ],
   "source": [
    "# Set the x-axis labels to the bin ranges\n",
    "x_labels = country_df[\"country_code\"].values\n",
    "\n",
    "# Create a bar chart of the false positives and false negatives\n",
    "plt.bar(x_labels, country_df[\"false_positives\"].values, label=\"False positives\")\n",
    "plt.bar(\n",
    "    x_labels,\n",
    "    country_df[\"false_negatives\"].values,\n",
    "    bottom=country_df[\"false_positives\"].values,\n",
    "    label=\"False negatives\",\n",
    ")\n",
    "\n",
    "# Increase bar chart size\n",
    "plt.rcParams[\"figure.figsize\"] = (10, 6)\n",
    "\n",
    "# Add labels and legend\n",
    "plt.xlabel(\"Country Code\", fontsize=\"x-large\")\n",
    "plt.ylabel(\"Count\", fontsize=\"x-large\")\n",
    "plt.title(\"FPs and FNs by Country\", fontsize=\"x-large\")\n",
    "\n",
    "plt.xticks(fontsize=\"x-large\", rotation=45, ha=\"right\")\n",
    "plt.yticks(fontsize=\"x-large\")\n",
    "\n",
    "plt.legend(fontsize=\"x-large\")\n",
    "\n",
    "plt.tight_layout()\n",
    "plt.show()\n"
   ]
  },
  {
   "cell_type": "code",
   "execution_count": null,
   "metadata": {},
   "outputs": [],
   "source": []
  }
 ],
 "metadata": {
  "kernelspec": {
   "display_name": "myvenv",
   "language": "python",
   "name": "python3"
  },
  "language_info": {
   "codemirror_mode": {
    "name": "ipython",
    "version": 3
   },
   "file_extension": ".py",
   "mimetype": "text/x-python",
   "name": "python",
   "nbconvert_exporter": "python",
   "pygments_lexer": "ipython3",
   "version": "3.9.7"
  },
  "orig_nbformat": 4
 },
 "nbformat": 4,
 "nbformat_minor": 2
}
