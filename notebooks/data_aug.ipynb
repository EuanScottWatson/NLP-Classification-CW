{
 "cells": [
  {
   "cell_type": "code",
   "execution_count": 1,
   "metadata": {},
   "outputs": [
    {
     "name": "stderr",
     "output_type": "stream",
     "text": [
      "/home/jwkim/anaconda3/envs/nlp/lib/python3.9/site-packages/tqdm/auto.py:21: TqdmWarning: IProgress not found. Please update jupyter and ipywidgets. See https://ipywidgets.readthedocs.io/en/stable/user_install.html\n",
      "  from .autonotebook import tqdm as notebook_tqdm\n"
     ]
    }
   ],
   "source": [
    "import numpy as np\n",
    "import nlpaug.augmenter.word as naw\n",
    "from tqdm import tqdm\n",
    "from sklearn.utils import shuffle\n",
    "import pandas as pd"
   ]
  },
  {
   "cell_type": "code",
   "execution_count": 43,
   "metadata": {},
   "outputs": [],
   "source": [
    "def augment_data_and_upsample(data_path, minority_class, pr, aug_const, ratio_insert):\n",
    "    aug_insert = naw.ContextualWordEmbsAug(\n",
    "        model_path='roberta-base', action=\"insert\", device='cuda', aug_p=pr)\n",
    "    aug_sub = naw.ContextualWordEmbsAug(\n",
    "        model_path='roberta-base', action=\"substitute\", device='cuda', aug_p=pr)\n",
    "\n",
    "    # Read in the CSV file\n",
    "    df = pd.read_table(data_path)\n",
    "    \n",
    "    new_texts = []\n",
    "    # Selecting the minority class samples\n",
    "    df_minority = df[df.label == minority_class].reset_index(drop=True)\n",
    "    df_majority = df[df.label == 0].reset_index(drop=True)\n",
    "    print(len(df))\n",
    "    n_minority = len(df_minority)\n",
    "    n_major = len(df_majority)\n",
    "    assert n_minority < n_major\n",
    "    assert n_minority + n_major == len(df)\n",
    "\n",
    "    # Calculating the number of samples to be generated\n",
    "    n_samples_major = int(n_major * aug_const)\n",
    "    n_samples_minor = (n_samples_major + n_major) - n_minority\n",
    "    print(\"minority, majority\", n_minority, n_major)\n",
    "    print(\"n samples minor / major\", n_samples_minor, n_samples_major)\n",
    "    print(\"Total samples after aug \", n_minority + n_samples_minor + n_major + n_samples_major)\n",
    "    \n",
    "    # Augmenting the minority class samples\n",
    "    n_insert= int(n_samples_minor * ratio_insert)\n",
    "    n_sub = n_samples_minor - n_insert\n",
    "\n",
    "    for i in tqdm(np.random.randint(0, n_minority, n_insert)):\n",
    "        text = df_minority.iloc[i]['text']\n",
    "        augmented_text = aug_insert.augment(text)[0]\n",
    "        assert type(augmented_text) == str\n",
    "        new_texts.append(augmented_text)\n",
    "    for i in tqdm(np.random.randint(0, n_minority, n_sub)):\n",
    "        text = df_minority.iloc[i]['text']\n",
    "        augmented_text = aug_sub.augment(text)[0]\n",
    "        assert type(augmented_text) == str\n",
    "        new_texts.append(augmented_text)\n",
    "\n",
    "    new_df = pd.DataFrame({'text': new_texts, 'label': minority_class})\n",
    "    df = shuffle(df.append(new_df).reset_index(drop=True))\n",
    "    \n",
    "    # Augmenting the majority class samples\n",
    "    n_insert= n_samples_major // 2\n",
    "    n_sub = n_samples_major - n_insert\n",
    "\n",
    "    new_texts_major = []\n",
    "\n",
    "    for i in tqdm(np.random.randint(0, n_major, n_insert)):\n",
    "        text = df_majority.iloc[i]['text']\n",
    "        augmented_text = aug_insert.augment(text)[0]\n",
    "        assert type(augmented_text) == str\n",
    "        new_texts_major.append(augmented_text)\n",
    "    \n",
    "    for i in tqdm(np.random.randint(0, n_major, n_sub)):\n",
    "        text = df_majority.iloc[i]['text']\n",
    "        augmented_text = aug_sub.augment(text)[0]\n",
    "        assert type(augmented_text) == str\n",
    "        new_texts_major.append(augmented_text)\n",
    "\n",
    "    majority_class = 0\n",
    "\n",
    "    new_df = pd.DataFrame({'text': new_texts_major, 'label': 0})\n",
    "    df = shuffle(df.append(new_df).reset_index(drop=True))\n",
    "\n",
    "    df = df[['text', 'label']]\n",
    "    \n",
    "    return df"
   ]
  },
  {
   "cell_type": "code",
   "execution_count": 44,
   "metadata": {},
   "outputs": [
    {
     "name": "stdout",
     "output_type": "stream",
     "text": [
      "6700\n",
      "minority, majority 626 6074\n",
      "n samples minor / major 6662 1214\n",
      "Total samples after aug  14576\n"
     ]
    },
    {
     "name": "stderr",
     "output_type": "stream",
     "text": [
      "100%|██████████| 3331/3331 [03:55<00:00, 14.12it/s]\n",
      "100%|██████████| 3331/3331 [03:49<00:00, 14.53it/s]\n",
      "/tmp/ipykernel_25976/440785978.py:43: FutureWarning: The frame.append method is deprecated and will be removed from pandas in a future version. Use pandas.concat instead.\n",
      "  df = shuffle(df.append(new_df).reset_index(drop=True))\n",
      "100%|██████████| 607/607 [00:38<00:00, 15.58it/s]\n",
      "100%|██████████| 607/607 [00:38<00:00, 15.65it/s]\n",
      "/tmp/ipykernel_25976/440785978.py:66: FutureWarning: The frame.append method is deprecated and will be removed from pandas in a future version. Use pandas.concat instead.\n",
      "  df = shuffle(df.append(new_df).reset_index(drop=True))\n"
     ]
    }
   ],
   "source": [
    "df_aug2 = augment_data_and_upsample(\"../data/train.tsv\", 1, 0.2, 0.2, 0.5)"
   ]
  },
  {
   "cell_type": "code",
   "execution_count": 45,
   "metadata": {},
   "outputs": [
    {
     "data": {
      "text/html": [
       "<div>\n",
       "<style scoped>\n",
       "    .dataframe tbody tr th:only-of-type {\n",
       "        vertical-align: middle;\n",
       "    }\n",
       "\n",
       "    .dataframe tbody tr th {\n",
       "        vertical-align: top;\n",
       "    }\n",
       "\n",
       "    .dataframe thead th {\n",
       "        text-align: right;\n",
       "    }\n",
       "</style>\n",
       "<table border=\"1\" class=\"dataframe\">\n",
       "  <thead>\n",
       "    <tr style=\"text-align: right;\">\n",
       "      <th></th>\n",
       "      <th>text</th>\n",
       "      <th>label</th>\n",
       "    </tr>\n",
       "  </thead>\n",
       "  <tbody>\n",
       "    <tr>\n",
       "      <th>11084</th>\n",
       "      <td>From his tall story and real-life encounters w...</td>\n",
       "      <td>1</td>\n",
       "    </tr>\n",
       "    <tr>\n",
       "      <th>317</th>\n",
       "      <td>As a result, millions of Syrians as well widel...</td>\n",
       "      <td>1</td>\n",
       "    </tr>\n",
       "    <tr>\n",
       "      <th>7267</th>\n",
       "      <td>Akka was the symbol of simplicity often dresse...</td>\n",
       "      <td>1</td>\n",
       "    </tr>\n",
       "    <tr>\n",
       "      <th>3229</th>\n",
       "      <td>A nationally vulnerable Toroa Northern Royal A...</td>\n",
       "      <td>0</td>\n",
       "    </tr>\n",
       "    <tr>\n",
       "      <th>9381</th>\n",
       "      <td>In a any nation where people with disabilities...</td>\n",
       "      <td>1</td>\n",
       "    </tr>\n",
       "  </tbody>\n",
       "</table>\n",
       "</div>"
      ],
      "text/plain": [
       "                                                    text  label\n",
       "11084  From his tall story and real-life encounters w...      1\n",
       "317    As a result, millions of Syrians as well widel...      1\n",
       "7267   Akka was the symbol of simplicity often dresse...      1\n",
       "3229   A nationally vulnerable Toroa Northern Royal A...      0\n",
       "9381   In a any nation where people with disabilities...      1"
      ]
     },
     "execution_count": 45,
     "metadata": {},
     "output_type": "execute_result"
    }
   ],
   "source": [
    "df_aug2.head()"
   ]
  },
  {
   "cell_type": "code",
   "execution_count": 48,
   "metadata": {},
   "outputs": [],
   "source": [
    "# Store the dataset into a file.\n",
    "import csv\n",
    "df_aug.to_csv(\"../data/train_aug_roberta.csv\", sep=',', index=False, quoting=csv.QUOTE_NONE, escapechar='\\\\')"
   ]
  },
  {
   "cell_type": "code",
   "execution_count": 49,
   "metadata": {},
   "outputs": [
    {
     "name": "stdout",
     "output_type": "stream",
     "text": [
      "0    0.656842\n",
      "1    0.343158\n",
      "Name: label, dtype: float64\n"
     ]
    },
    {
     "data": {
      "image/png": "[encoded data removed]",
      "text/plain": [
       "<Figure size 640x480 with 1 Axes>"
      ]
     },
     "metadata": {},
     "output_type": "display_data"
    }
   ],
   "source": [
    "import matplotlib.pyplot as plt\n",
    "df_aug2.label.value_counts().plot(kind='bar', title='Label Distribution')\n",
    "print(df_aug.label.value_counts(normalize=True))"
   ]
  },
  {
   "cell_type": "code",
   "execution_count": 66,
   "metadata": {},
   "outputs": [
    {
     "ename": "KeyError",
     "evalue": "'MODEL_DIR'",
     "output_type": "error",
     "traceback": [
      "\u001b[0;31m---------------------------------------------------------------------------\u001b[0m",
      "\u001b[0;31mKeyError\u001b[0m                                  Traceback (most recent call last)",
      "Cell \u001b[0;32mIn[66], line 4\u001b[0m\n\u001b[1;32m      1\u001b[0m \u001b[39m# Augmentation using Word2Vec\u001b[39;00m\n\u001b[1;32m      3\u001b[0m \u001b[39mimport\u001b[39;00m \u001b[39mos\u001b[39;00m \n\u001b[0;32m----> 4\u001b[0m os\u001b[39m.\u001b[39;49menviron[\u001b[39m\"\u001b[39;49m\u001b[39mMODEL_DIR\u001b[39;49m\u001b[39m\"\u001b[39;49m] \u001b[39m+\u001b[39m \u001b[39m'\u001b[39m\u001b[39m../model\u001b[39m\u001b[39m'\u001b[39m\n\u001b[1;32m      6\u001b[0m \u001b[39mdef\u001b[39;00m \u001b[39maugment_data_and_upsample_word2vec\u001b[39m(data_path, minority_class, pr, aug_const, ratio_insert):\n\u001b[1;32m      7\u001b[0m     \u001b[39m# aug_insert = naw.WordEmbsAug(\u001b[39;00m\n\u001b[1;32m      8\u001b[0m     \u001b[39m#     model_type='word2vec', action=\"insert\", aug_p=pr, model_path='GoogleNews-vectors-negative300.bin')\u001b[39;00m\n\u001b[1;32m      9\u001b[0m     \u001b[39m# aug_sub = naw.WordEmbsAug(\u001b[39;00m\n\u001b[1;32m     10\u001b[0m     \u001b[39m#     model_type='word2vec', action=\"substitute\", aug_p=pr, model_path='GoogleNews-vectors-negative300.bin')\u001b[39;00m\n\u001b[1;32m     11\u001b[0m     aug_insert \u001b[39m=\u001b[39m naw\u001b[39m.\u001b[39mTfIdfAug(\n\u001b[1;32m     12\u001b[0m         model_path\u001b[39m=\u001b[39mos\u001b[39m.\u001b[39menviron\u001b[39m.\u001b[39mget(\u001b[39m\"\u001b[39m\u001b[39mMODEL_DIR\u001b[39m\u001b[39m\"\u001b[39m),\n\u001b[1;32m     13\u001b[0m         action\u001b[39m=\u001b[39m\u001b[39m\"\u001b[39m\u001b[39minsert\u001b[39m\u001b[39m\"\u001b[39m)\n",
      "File \u001b[0;32m~/anaconda3/envs/nlp/lib/python3.9/os.py:679\u001b[0m, in \u001b[0;36m_Environ.__getitem__\u001b[0;34m(self, key)\u001b[0m\n\u001b[1;32m    676\u001b[0m     value \u001b[39m=\u001b[39m \u001b[39mself\u001b[39m\u001b[39m.\u001b[39m_data[\u001b[39mself\u001b[39m\u001b[39m.\u001b[39mencodekey(key)]\n\u001b[1;32m    677\u001b[0m \u001b[39mexcept\u001b[39;00m \u001b[39mKeyError\u001b[39;00m:\n\u001b[1;32m    678\u001b[0m     \u001b[39m# raise KeyError with the original key value\u001b[39;00m\n\u001b[0;32m--> 679\u001b[0m     \u001b[39mraise\u001b[39;00m \u001b[39mKeyError\u001b[39;00m(key) \u001b[39mfrom\u001b[39;00m \u001b[39mNone\u001b[39m\n\u001b[1;32m    680\u001b[0m \u001b[39mreturn\u001b[39;00m \u001b[39mself\u001b[39m\u001b[39m.\u001b[39mdecodevalue(value)\n",
      "\u001b[0;31mKeyError\u001b[0m: 'MODEL_DIR'"
     ]
    }
   ],
   "source": [
    "# Augmentation using Word2Vec\n",
    "\n",
    "import os \n",
    "os.environ[\"MODEL_DIR\"] + '../model'\n",
    "\n",
    "def augment_data_and_upsample_word2vec(data_path, minority_class, pr, aug_const, ratio_insert):\n",
    "    # aug_insert = naw.WordEmbsAug(\n",
    "    #     model_type='word2vec', action=\"insert\", aug_p=pr, model_path='GoogleNews-vectors-negative300.bin')\n",
    "    # aug_sub = naw.WordEmbsAug(\n",
    "    #     model_type='word2vec', action=\"substitute\", aug_p=pr, model_path='GoogleNews-vectors-negative300.bin')\n",
    "    aug_insert = naw.TfIdfAug(\n",
    "        model_path=os.environ.get(\"MODEL_DIR\"),\n",
    "        action=\"insert\")\n",
    "    aug_sub = naw.TfIdfAug(\n",
    "        model_path=os.environ.get(\"MODEL_DIR\"),\n",
    "        action=\"substitute\")\n",
    "\n",
    "    # Read in the CSV file\n",
    "    df = pd.read_table(data_path)\n",
    "    \n",
    "    new_texts = []\n",
    "    # Selecting the minority class samples\n",
    "    df_minority = df[df.label == minority_class].reset_index(drop=True)\n",
    "    df_majority = df[df.label == 0].reset_index(drop=True)\n",
    "    print(len(df))\n",
    "    n_minority = len(df_minority)\n",
    "    n_major = len(df_majority)\n",
    "    assert n_minority < n_major\n",
    "    assert n_minority + n_major == len(df)\n",
    "\n",
    "    # Calculating the number of samples to be generated\n",
    "    n_samples_major = int(n_major * aug_const)\n",
    "    n_samples_minor = (n_samples_major + n_major) - n_minority\n",
    "    print(\"minority, majority\", n_minority, n_major)\n",
    "    print(\"n samples minor / major\", n_samples_minor, n_samples_major)\n",
    "    print(\"Total samples after aug \", n_minority + n_samples_minor + n_major + n_samples_major)\n",
    "    \n",
    "    # Augmenting the minority class samples\n",
    "    n_insert= int(n_samples_minor * ratio_insert)\n",
    "    n_sub = n_samples_minor - n_insert\n",
    "\n",
    "    for i in tqdm(np.random.randint(0, n_minority, n_insert)):\n",
    "        text = df_minority.iloc[i]['text']\n",
    "        augmented_text = aug_insert.augment(text)[0]\n",
    "        assert type(augmented_text) == str\n",
    "        new_texts.append(augmented_text)\n",
    "    for i in tqdm(np.random.randint(0, n_minority, n_sub)):\n",
    "        text = df_minority.iloc[i]['text']\n",
    "        augmented_text = aug_sub.augment(text)[0]\n",
    "        assert type(augmented_text) == str\n",
    "        new_texts.append(augmented_text)\n",
    "\n",
    "    new_df = pd.DataFrame({'text': new_texts, 'label': minority_class})\n",
    "    df = shuffle(df.append(new_df).reset_index(drop=True))\n",
    "    \n",
    "    # Augmenting the majority class samples\n",
    "    n_insert= n_samples_major // 2\n",
    "    n_sub = n_samples_major - n_insert\n",
    "\n",
    "    new_texts_major = []\n",
    "\n",
    "    for i in tqdm(np.random.randint(0, n_major, n_insert)):\n",
    "        text = df_majority.iloc[i]['text']\n",
    "        augmented_text = aug_insert.augment(text)[0]\n",
    "        assert type(augmented_text) == str\n",
    "        new_texts_major.append(augmented_text)\n",
    "    \n",
    "    for i in tqdm(np.random.randint(0, n_major, n_sub)):\n",
    "        text = df_majority.iloc[i]['text']\n",
    "        augmented_text = aug_sub.augment(text)[0]\n",
    "        assert type(augmented_text) == str\n",
    "        new_texts_major.append(augmented_text)\n",
    "\n",
    "    majority_class = 0\n",
    "\n",
    "    new_df = pd.DataFrame({'text': new_texts_major, 'label': 0})\n",
    "    df = shuffle(df.append(new_df).reset_index(drop=True))\n",
    "\n",
    "    df = df[['text', 'label']]\n",
    "    \n",
    "    return df"
   ]
  },
  {
   "cell_type": "code",
   "execution_count": 67,
   "metadata": {},
   "outputs": [
    {
     "ename": "FileNotFoundError",
     "evalue": "[Errno 2] No such file or directory: './tfidfaug_w2idf.txt'",
     "output_type": "error",
     "traceback": [
      "\u001b[0;31m---------------------------------------------------------------------------\u001b[0m",
      "\u001b[0;31mFileNotFoundError\u001b[0m                         Traceback (most recent call last)",
      "Cell \u001b[0;32mIn[67], line 1\u001b[0m\n\u001b[0;32m----> 1\u001b[0m df_aug_word2vec \u001b[39m=\u001b[39m augment_data_and_upsample_word2vec(\u001b[39m\"\u001b[39;49m\u001b[39m../data/train.tsv\u001b[39;49m\u001b[39m\"\u001b[39;49m, \u001b[39m1\u001b[39;49m, \u001b[39m0.2\u001b[39;49m, \u001b[39m0.2\u001b[39;49m, \u001b[39m0.5\u001b[39;49m)\n",
      "Cell \u001b[0;32mIn[64], line 10\u001b[0m, in \u001b[0;36maugment_data_and_upsample_word2vec\u001b[0;34m(data_path, minority_class, pr, aug_const, ratio_insert)\u001b[0m\n\u001b[1;32m      5\u001b[0m \u001b[39mdef\u001b[39;00m \u001b[39maugment_data_and_upsample_word2vec\u001b[39m(data_path, minority_class, pr, aug_const, ratio_insert):\n\u001b[1;32m      6\u001b[0m     \u001b[39m# aug_insert = naw.WordEmbsAug(\u001b[39;00m\n\u001b[1;32m      7\u001b[0m     \u001b[39m#     model_type='word2vec', action=\"insert\", aug_p=pr, model_path='GoogleNews-vectors-negative300.bin')\u001b[39;00m\n\u001b[1;32m      8\u001b[0m     \u001b[39m# aug_sub = naw.WordEmbsAug(\u001b[39;00m\n\u001b[1;32m      9\u001b[0m     \u001b[39m#     model_type='word2vec', action=\"substitute\", aug_p=pr, model_path='GoogleNews-vectors-negative300.bin')\u001b[39;00m\n\u001b[0;32m---> 10\u001b[0m     aug_insert \u001b[39m=\u001b[39m naw\u001b[39m.\u001b[39;49mTfIdfAug(\n\u001b[1;32m     11\u001b[0m         action\u001b[39m=\u001b[39;49m\u001b[39m\"\u001b[39;49m\u001b[39minsert\u001b[39;49m\u001b[39m\"\u001b[39;49m)\n\u001b[1;32m     12\u001b[0m     aug_sub \u001b[39m=\u001b[39m naw\u001b[39m.\u001b[39mTfIdfAug(\n\u001b[1;32m     13\u001b[0m         action\u001b[39m=\u001b[39m\u001b[39m\"\u001b[39m\u001b[39msubstitute\u001b[39m\u001b[39m\"\u001b[39m)\n\u001b[1;32m     15\u001b[0m     \u001b[39m# Read in the CSV file\u001b[39;00m\n",
      "File \u001b[0;32m~/anaconda3/envs/nlp/lib/python3.9/site-packages/nlpaug/augmenter/word/tfidf.py:60\u001b[0m, in \u001b[0;36mTfIdfAug.__init__\u001b[0;34m(self, model_path, action, name, aug_min, aug_max, aug_p, top_k, stopwords, tokenizer, reverse_tokenizer, stopwords_regex, verbose)\u001b[0m\n\u001b[1;32m     58\u001b[0m \u001b[39mself\u001b[39m\u001b[39m.\u001b[39mmodel_path \u001b[39m=\u001b[39m model_path\n\u001b[1;32m     59\u001b[0m \u001b[39mself\u001b[39m\u001b[39m.\u001b[39mtop_k \u001b[39m=\u001b[39m top_k\n\u001b[0;32m---> 60\u001b[0m \u001b[39mself\u001b[39m\u001b[39m.\u001b[39mmodel \u001b[39m=\u001b[39m \u001b[39mself\u001b[39;49m\u001b[39m.\u001b[39;49mget_model(force_reload\u001b[39m=\u001b[39;49m\u001b[39mFalse\u001b[39;49;00m)\n",
      "File \u001b[0;32m~/anaconda3/envs/nlp/lib/python3.9/site-packages/nlpaug/augmenter/word/tfidf.py:174\u001b[0m, in \u001b[0;36mTfIdfAug.get_model\u001b[0;34m(self, force_reload)\u001b[0m\n\u001b[1;32m    173\u001b[0m \u001b[39mdef\u001b[39;00m \u001b[39mget_model\u001b[39m(\u001b[39mself\u001b[39m, force_reload\u001b[39m=\u001b[39m\u001b[39mFalse\u001b[39;00m):\n\u001b[0;32m--> 174\u001b[0m     \u001b[39mreturn\u001b[39;00m init_tfidf_model(\u001b[39mself\u001b[39;49m\u001b[39m.\u001b[39;49mmodel_path, force_reload)\n",
      "File \u001b[0;32m~/anaconda3/envs/nlp/lib/python3.9/site-packages/nlpaug/augmenter/word/tfidf.py:19\u001b[0m, in \u001b[0;36minit_tfidf_model\u001b[0;34m(model_path, force_reload)\u001b[0m\n\u001b[1;32m     16\u001b[0m     \u001b[39mreturn\u001b[39;00m TFIDF_MODEL\n\u001b[1;32m     18\u001b[0m tfidf_model \u001b[39m=\u001b[39m nmws\u001b[39m.\u001b[39mTfIdf()\n\u001b[0;32m---> 19\u001b[0m tfidf_model\u001b[39m.\u001b[39;49mread(model_path)\n\u001b[1;32m     20\u001b[0m TFIDF_MODEL \u001b[39m=\u001b[39m tfidf_model\n\u001b[1;32m     22\u001b[0m \u001b[39mreturn\u001b[39;00m tfidf_model\n",
      "File \u001b[0;32m~/anaconda3/envs/nlp/lib/python3.9/site-packages/nlpaug/model/word_stats/tfidf.py:110\u001b[0m, in \u001b[0;36mTfIdf.read\u001b[0;34m(self, model_path)\u001b[0m\n\u001b[1;32m    107\u001b[0m \u001b[39mself\u001b[39m\u001b[39m.\u001b[39mw2idf \u001b[39m=\u001b[39m {}\n\u001b[1;32m    108\u001b[0m \u001b[39mself\u001b[39m\u001b[39m.\u001b[39mw2tfidf \u001b[39m=\u001b[39m {}\n\u001b[0;32m--> 110\u001b[0m \u001b[39mwith\u001b[39;00m \u001b[39mopen\u001b[39;49m(os\u001b[39m.\u001b[39;49mpath\u001b[39m.\u001b[39;49mjoin(model_path, \u001b[39mself\u001b[39;49m\u001b[39m.\u001b[39;49mWORD_2_IDF_FILE_NAME), \u001b[39m'\u001b[39;49m\u001b[39mr\u001b[39;49m\u001b[39m'\u001b[39;49m, encoding\u001b[39m=\u001b[39;49m\u001b[39m\"\u001b[39;49m\u001b[39mutf-8\u001b[39;49m\u001b[39m\"\u001b[39;49m) \u001b[39mas\u001b[39;00m f:\n\u001b[1;32m    111\u001b[0m     \u001b[39mfor\u001b[39;00m line \u001b[39min\u001b[39;00m f\u001b[39m.\u001b[39mreadlines():\n\u001b[1;32m    112\u001b[0m         \u001b[39m# Fix https://github.com/makcedward/nlpaug/issues/201\u001b[39;00m\n\u001b[1;32m    113\u001b[0m         \u001b[39mtry\u001b[39;00m:\n",
      "\u001b[0;31mFileNotFoundError\u001b[0m: [Errno 2] No such file or directory: './tfidfaug_w2idf.txt'"
     ]
    }
   ],
   "source": [
    "df_aug_word2vec = augment_data_and_upsample_word2vec(\"../data/train.tsv\", 1, 0.2, 0.2, 0.5)"
   ]
  },
  {
   "cell_type": "code",
   "execution_count": null,
   "metadata": {},
   "outputs": [],
   "source": []
  }
 ],
 "metadata": {
  "kernelspec": {
   "display_name": "nlp",
   "language": "python",
   "name": "python3"
  },
  "language_info": {
   "codemirror_mode": {
    "name": "ipython",
    "version": 3
   },
   "file_extension": ".py",
   "mimetype": "text/x-python",
   "name": "python",
   "nbconvert_exporter": "python",
   "pygments_lexer": "ipython3",
   "version": "3.9.16"
  },
  "orig_nbformat": 4
 },
 "nbformat": 4,
 "nbformat_minor": 2
}
