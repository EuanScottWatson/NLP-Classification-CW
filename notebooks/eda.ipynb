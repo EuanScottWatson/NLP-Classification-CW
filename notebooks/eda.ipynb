{
 "cells": [
  {
   "cell_type": "code",
   "execution_count": null,
   "metadata": {},
   "outputs": [],
   "source": [
    "import numpy as np\n",
    "import pandas as pd\n",
    "import matplotlib.pyplot as plt\n",
    "import matplotlib.ticker as mtick\n"
   ]
  },
  {
   "cell_type": "code",
   "execution_count": null,
   "metadata": {},
   "outputs": [],
   "source": [
    "!python3 -m spacy download en_core_web_sm"
   ]
  },
  {
   "cell_type": "code",
   "execution_count": null,
   "metadata": {},
   "outputs": [],
   "source": [
    "# Parameters & Constants\n",
    "FILE_PATH = \"../data/dontpatronizeme_pcl.tsv\"\n"
   ]
  },
  {
   "cell_type": "code",
   "execution_count": null,
   "metadata": {},
   "outputs": [],
   "source": [
    "rows = []\n",
    "\n",
    "with open(FILE_PATH) as f:\n",
    "    for line in f.readlines()[4:]:\n",
    "        par_id = line.strip().split(\"\\t\")[0]\n",
    "        art_id = line.strip().split(\"\\t\")[1]\n",
    "        keyword = line.strip().split(\"\\t\")[2]\n",
    "        country = line.strip().split(\"\\t\")[3]\n",
    "        t = line.strip().split(\"\\t\")[4]  # .lower()\n",
    "        l = line.strip().split(\"\\t\")[-1]\n",
    "        if l == \"0\" or l == \"1\":\n",
    "            lbin = 0\n",
    "        else:\n",
    "            lbin = 1\n",
    "        rows.append(\n",
    "            {\n",
    "                \"par_id\": par_id,\n",
    "                \"art_id\": art_id,\n",
    "                \"keyword\": keyword,\n",
    "                \"country\": country,\n",
    "                \"text\": t,\n",
    "                \"label\": lbin,\n",
    "                \"orig_label\": l,\n",
    "            }\n",
    "        )\n",
    "df = pd.DataFrame(\n",
    "    rows, columns=[\"par_id\", \"art_id\", \"keyword\", \"country\", \"text\", \"label\", \"orig_label\"]\n",
    ")\n"
   ]
  },
  {
   "cell_type": "code",
   "execution_count": null,
   "metadata": {},
   "outputs": [],
   "source": [
    "df.head()\n"
   ]
  },
  {
   "cell_type": "code",
   "execution_count": null,
   "metadata": {},
   "outputs": [],
   "source": [
    "# Exploratory Data Analysis\n",
    "\n",
    "print(\"Original data shape: \", df.shape)\n",
    "df = df.dropna()\n",
    "print(\"Data shape after dropping NaNs: \", df.shape)\n"
   ]
  },
  {
   "cell_type": "code",
   "execution_count": null,
   "metadata": {},
   "outputs": [],
   "source": [
    "# Label Distribution\n",
    "df.label.value_counts().plot(kind=\"bar\", figsize=(8, 5))\n",
    "\n",
    "plt.title(\"Distribution of Labels\", fontsize=\"x-large\")\n",
    "plt.xlabel(\"Assigned label (0 - Doesn't contain PCL, 1 - Contains PCL)\", fontsize=\"x-large\")\n",
    "plt.ylabel(\"Number of paragraphs\", fontsize=\"x-large\")\n",
    "\n",
    "plt.xticks(fontsize=\"x-large\")\n",
    "plt.yticks(fontsize=\"x-large\")\n",
    "\n",
    "plt.show()\n",
    "\n",
    "# Calculate percentage of each class\n",
    "print(df.label.value_counts(normalize=True))\n"
   ]
  },
  {
   "attachments": {},
   "cell_type": "markdown",
   "metadata": {},
   "source": [
    "We can see that the dataset is imbalanced, with an approximate ratio of 9:1.\n"
   ]
  },
  {
   "attachments": {},
   "cell_type": "markdown",
   "metadata": {},
   "source": [
    "## Which features seem to affect the prediction?\n",
    "\n",
    "### 1. Length of text\n",
    "\n",
    "### 2. Country\n",
    "\n",
    "### 3. Keyword\n"
   ]
  },
  {
   "cell_type": "code",
   "execution_count": null,
   "metadata": {},
   "outputs": [],
   "source": [
    "import spacy\n",
    "\n",
    "spacy_en = spacy.load(\"en_core_web_sm\")\n",
    "\n",
    "\n",
    "def tokenizer(text):  # create a custom tokenizer function\n",
    "    return [tok.text for tok in spacy_en.tokenizer(text)]\n",
    "\n",
    "\n",
    "df[\"text_tokenised\"] = df[\"text\"].apply(tokenizer)\n",
    "df[\"text_length\"] = df[\"text_tokenised\"].apply(len)\n",
    "\n",
    "# Plot the distribution of text length per label\n",
    "ax = df.groupby(\"label\").text_length.hist(alpha=0.5, bins=50)\n",
    "\n",
    "plt.title(\"Distribution of Text Length per Label\", fontsize=\"x-large\")\n",
    "plt.xlabel(\"Text length\", fontsize=\"x-large\")\n",
    "plt.ylabel(\"Number of paragraphs\", fontsize=\"x-large\")\n",
    "\n",
    "plt.xticks(fontsize=\"x-large\")\n",
    "plt.yticks(fontsize=\"x-large\")\n",
    "\n",
    "plt.legend([\"0: Doesn't contain PCL\", \"1: Contains PCL\"], fontsize=\"x-large\")\n",
    "\n",
    "plt.show()\n"
   ]
  },
  {
   "cell_type": "code",
   "execution_count": null,
   "metadata": {},
   "outputs": [],
   "source": [
    "df[\"text_tokenised\"].head()\n"
   ]
  },
  {
   "cell_type": "code",
   "execution_count": null,
   "metadata": {},
   "outputs": [],
   "source": [
    "# Visualize the ratio between 0 and 1 labels for each keyword, and order them by the ratio of 1 labels\n",
    "ax = (\n",
    "    df.groupby(\"keyword\")\n",
    "    .label.value_counts(normalize=True)\n",
    "    .unstack()\n",
    "    .sort_values(by=1, ascending=False)\n",
    "    .plot(kind=\"bar\", stacked=True, figsize=(10, 6))\n",
    ")\n",
    "\n",
    "ax.yaxis.set_major_formatter(mtick.PercentFormatter(1.0))\n",
    "\n",
    "plt.title(\"Distribution of Labels per Keyword\", fontsize=\"x-large\")\n",
    "plt.xlabel(\"Keyword\", fontsize=\"x-large\")\n",
    "plt.ylabel(\"Percentage of paragraphs containing PCL/non-PCL\", fontsize=\"x-large\")\n",
    "\n",
    "plt.setp(ax.get_xticklabels(), rotation=45, horizontalalignment=\"right\", fontsize=\"x-large\")\n",
    "plt.setp(ax.get_yticklabels(), fontsize=\"x-large\")\n",
    "\n",
    "plt.legend([\"0: Doesn't contain PCL\", \"1: Contains PCL\"])\n",
    "plt.setp(ax.get_legend().get_texts(), fontsize=\"x-large\")\n",
    "\n",
    "plt.show()\n"
   ]
  },
  {
   "cell_type": "code",
   "execution_count": null,
   "metadata": {},
   "outputs": [],
   "source": [
    "ax = (\n",
    "    df.groupby(\"country\")\n",
    "    .label.value_counts(normalize=True)\n",
    "    .unstack()\n",
    "    .sort_values(by=1, ascending=False)\n",
    "    .plot(kind=\"bar\", stacked=True, figsize=(10, 6))\n",
    ")\n",
    "\n",
    "ax.yaxis.set_major_formatter(mtick.PercentFormatter(1.0))\n",
    "\n",
    "plt.title(\"Distribution of Labels per Country\", fontsize=\"x-large\")\n",
    "plt.xlabel(\"Country\", fontsize=\"x-large\")\n",
    "plt.ylabel(\"Percentage of paragraphs containing PCL/non-PCL\", fontsize=\"x-large\")\n",
    "\n",
    "plt.setp(ax.get_xticklabels(), rotation=45, horizontalalignment=\"right\", fontsize=\"x-large\")\n",
    "plt.setp(ax.get_yticklabels(), fontsize=\"x-large\")\n",
    "\n",
    "plt.legend([\"0: Doesn't contain PCL\", \"1: Contains PCL\"])\n",
    "plt.setp(ax.get_legend().get_texts(), fontsize=\"x-large\")\n",
    "\n",
    "plt.show()\n"
   ]
  }
 ],
 "metadata": {
  "kernelspec": {
   "display_name": "nlp",
   "language": "python",
   "name": "python3"
  },
  "language_info": {
   "codemirror_mode": {
    "name": "ipython",
    "version": 3
   },
   "file_extension": ".py",
   "mimetype": "text/x-python",
   "name": "python",
   "nbconvert_exporter": "python",
   "pygments_lexer": "ipython3",
   "version": "3.9.7"
  },
  "orig_nbformat": 4,
  "vscode": {
   "interpreter": {
    "hash": "83df55e12a4d26d0521b4f612eec2d51aeaade6148ccea2443671e6c8aaa0341"
   }
  }
 },
 "nbformat": 4,
 "nbformat_minor": 2
}
